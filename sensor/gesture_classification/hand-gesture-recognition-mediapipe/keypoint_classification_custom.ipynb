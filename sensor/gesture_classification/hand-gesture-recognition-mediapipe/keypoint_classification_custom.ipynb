{
 "cells": [
  {
   "cell_type": "code",
   "execution_count": 1,
   "metadata": {
    "id": "igMyGnjE9hEp"
   },
   "outputs": [],
   "source": [
    "import csv\n",
    "\n",
    "import numpy as np\n",
    "import tensorflow as tf\n",
    "from sklearn.model_selection import train_test_split\n",
    "\n",
    "RANDOM_SEED = 42"
   ]
  },
  {
   "cell_type": "markdown",
   "metadata": {
    "id": "t2HDvhIu9hEr"
   },
   "source": [
    "# Specify each path"
   ]
  },
  {
   "cell_type": "code",
   "execution_count": 2,
   "metadata": {
    "id": "9NvZP2Zn9hEy"
   },
   "outputs": [],
   "source": [
    "dataset = 'model/keypoint_classifier/keypoint_2.csv'\n",
    "model_save_path = 'model/keypoint_classifier/keypoint_classifier_custom_feb.hdf5'\n",
    "tflite_save_path = 'model/keypoint_classifier/keypoint_classifier_custom_feb.tflite'"
   ]
  },
  {
   "cell_type": "markdown",
   "metadata": {
    "id": "s5oMH7x19hEz"
   },
   "source": [
    "# Set number of classes"
   ]
  },
  {
   "cell_type": "code",
   "execution_count": 3,
   "metadata": {
    "id": "du4kodXL9hEz"
   },
   "outputs": [],
   "source": [
    "NUM_CLASSES = 2"
   ]
  },
  {
   "cell_type": "markdown",
   "metadata": {
    "id": "XjnL0uso9hEz"
   },
   "source": [
    "# Dataset reading"
   ]
  },
  {
   "cell_type": "code",
   "execution_count": 4,
   "metadata": {
    "id": "QT5ZqtEz9hE0"
   },
   "outputs": [],
   "source": [
    "X_dataset = np.loadtxt(dataset, delimiter=',', dtype='float32', usecols=list(range(1, (21 * 2) + 1)))"
   ]
  },
  {
   "cell_type": "code",
   "execution_count": 5,
   "metadata": {
    "id": "QmoKFsp49hE0"
   },
   "outputs": [],
   "source": [
    "y_dataset = np.loadtxt(dataset, delimiter=',', dtype='int32', usecols=(0))"
   ]
  },
  {
   "cell_type": "code",
   "execution_count": 6,
   "metadata": {
    "id": "xQU7JTZ_9hE0"
   },
   "outputs": [],
   "source": [
    "X_train, X_test, y_train, y_test = train_test_split(X_dataset, y_dataset, train_size=0.75, random_state=RANDOM_SEED)"
   ]
  },
  {
   "cell_type": "markdown",
   "metadata": {
    "id": "mxK_lETT9hE0"
   },
   "source": [
    "# Model building"
   ]
  },
  {
   "cell_type": "code",
   "execution_count": 7,
   "metadata": {
    "id": "vHBmUf1t9hE1"
   },
   "outputs": [],
   "source": [
    "model = tf.keras.models.Sequential([\n",
    "    tf.keras.layers.Input((21 * 2, )),\n",
    "    tf.keras.layers.Dropout(0.2),\n",
    "    tf.keras.layers.Dense(20, activation='relu'),\n",
    "    tf.keras.layers.Dropout(0.4),\n",
    "    tf.keras.layers.Dense(10, activation='relu'),\n",
    "    tf.keras.layers.Dense(NUM_CLASSES, activation='softmax')\n",
    "])"
   ]
  },
  {
   "cell_type": "code",
   "execution_count": 8,
   "metadata": {
    "colab": {
     "base_uri": "https://localhost:8080/"
    },
    "id": "ypqky9tc9hE1",
    "outputId": "5db082bb-30e3-4110-bf63-a1ee777ecd46"
   },
   "outputs": [
    {
     "name": "stdout",
     "output_type": "stream",
     "text": [
      "Model: \"sequential\"\n",
      "_________________________________________________________________\n",
      " Layer (type)                Output Shape              Param #   \n",
      "=================================================================\n",
      " dropout (Dropout)           (None, 42)                0         \n",
      "                                                                 \n",
      " dense (Dense)               (None, 20)                860       \n",
      "                                                                 \n",
      " dropout_1 (Dropout)         (None, 20)                0         \n",
      "                                                                 \n",
      " dense_1 (Dense)             (None, 10)                210       \n",
      "                                                                 \n",
      " dense_2 (Dense)             (None, 2)                 22        \n",
      "                                                                 \n",
      "=================================================================\n",
      "Total params: 1,092\n",
      "Trainable params: 1,092\n",
      "Non-trainable params: 0\n",
      "_________________________________________________________________\n"
     ]
    }
   ],
   "source": [
    "model.summary()  # tf.keras.utils.plot_model(model, show_shapes=True)"
   ]
  },
  {
   "cell_type": "code",
   "execution_count": 9,
   "metadata": {
    "id": "MbMjOflQ9hE1"
   },
   "outputs": [],
   "source": [
    "# Model checkpoint callback\n",
    "cp_callback = tf.keras.callbacks.ModelCheckpoint(\n",
    "    model_save_path, verbose=1, save_weights_only=False)\n",
    "# Callback for early stopping\n",
    "es_callback = tf.keras.callbacks.EarlyStopping(patience=20, verbose=1)"
   ]
  },
  {
   "cell_type": "code",
   "execution_count": 10,
   "metadata": {
    "id": "c3Dac0M_9hE2"
   },
   "outputs": [],
   "source": [
    "# Model compilation\n",
    "model.compile(\n",
    "    optimizer='adam',\n",
    "    loss='sparse_categorical_crossentropy',\n",
    "    metrics=['accuracy']\n",
    ")"
   ]
  },
  {
   "cell_type": "markdown",
   "metadata": {
    "id": "7XI0j1Iu9hE2"
   },
   "source": [
    "# Model training"
   ]
  },
  {
   "cell_type": "code",
   "execution_count": 11,
   "metadata": {
    "colab": {
     "base_uri": "https://localhost:8080/"
    },
    "id": "WirBl-JE9hE3",
    "outputId": "71b30ca2-8294-4d9d-8aa2-800d90d399de",
    "scrolled": true
   },
   "outputs": [
    {
     "name": "stdout",
     "output_type": "stream",
     "text": [
      "Epoch 1/1000\n",
      " 1/32 [..............................] - ETA: 13s - loss: 0.8116 - accuracy: 0.3672\n",
      "Epoch 1: saving model to model/keypoint_classifier\\keypoint_classifier_custom_feb.hdf5\n",
      "32/32 [==============================] - 1s 7ms/step - loss: 0.6672 - accuracy: 0.5958 - val_loss: 0.5661 - val_accuracy: 0.7007\n",
      "Epoch 2/1000\n",
      " 1/32 [..............................] - ETA: 0s - loss: 0.6690 - accuracy: 0.6016\n",
      "Epoch 2: saving model to model/keypoint_classifier\\keypoint_classifier_custom_feb.hdf5\n",
      "32/32 [==============================] - 0s 4ms/step - loss: 0.5789 - accuracy: 0.6890 - val_loss: 0.5238 - val_accuracy: 0.7176\n",
      "Epoch 3/1000\n",
      "32/32 [==============================] - ETA: 0s - loss: 0.5437 - accuracy: 0.6995\n",
      "Epoch 3: saving model to model/keypoint_classifier\\keypoint_classifier_custom_feb.hdf5\n",
      "32/32 [==============================] - 0s 3ms/step - loss: 0.5437 - accuracy: 0.6995 - val_loss: 0.4960 - val_accuracy: 0.7375\n",
      "Epoch 4/1000\n",
      "31/32 [============================>.] - ETA: 0s - loss: 0.5225 - accuracy: 0.7127\n",
      "Epoch 4: saving model to model/keypoint_classifier\\keypoint_classifier_custom_feb.hdf5\n",
      "32/32 [==============================] - 0s 3ms/step - loss: 0.5219 - accuracy: 0.7125 - val_loss: 0.4659 - val_accuracy: 0.7529\n",
      "Epoch 5/1000\n",
      " 1/32 [..............................] - ETA: 0s - loss: 0.4489 - accuracy: 0.7734\n",
      "Epoch 5: saving model to model/keypoint_classifier\\keypoint_classifier_custom_feb.hdf5\n",
      "32/32 [==============================] - 0s 3ms/step - loss: 0.5020 - accuracy: 0.7265 - val_loss: 0.4398 - val_accuracy: 0.7816\n",
      "Epoch 6/1000\n",
      " 1/32 [..............................] - ETA: 0s - loss: 0.4755 - accuracy: 0.7344\n",
      "Epoch 6: saving model to model/keypoint_classifier\\keypoint_classifier_custom_feb.hdf5\n",
      "32/32 [==============================] - 0s 3ms/step - loss: 0.4782 - accuracy: 0.7471 - val_loss: 0.4088 - val_accuracy: 0.8051\n",
      "Epoch 7/1000\n",
      " 1/32 [..............................] - ETA: 0s - loss: 0.4371 - accuracy: 0.7656\n",
      "Epoch 7: saving model to model/keypoint_classifier\\keypoint_classifier_custom_feb.hdf5\n",
      "32/32 [==============================] - 0s 3ms/step - loss: 0.4559 - accuracy: 0.7640 - val_loss: 0.3835 - val_accuracy: 0.8316\n",
      "Epoch 8/1000\n",
      " 1/32 [..............................] - ETA: 0s - loss: 0.4510 - accuracy: 0.7812\n",
      "Epoch 8: saving model to model/keypoint_classifier\\keypoint_classifier_custom_feb.hdf5\n",
      "32/32 [==============================] - 0s 3ms/step - loss: 0.4472 - accuracy: 0.7778 - val_loss: 0.3630 - val_accuracy: 0.8471\n",
      "Epoch 9/1000\n",
      "31/32 [============================>.] - ETA: 0s - loss: 0.4202 - accuracy: 0.7986\n",
      "Epoch 9: saving model to model/keypoint_classifier\\keypoint_classifier_custom_feb.hdf5\n",
      "32/32 [==============================] - 0s 3ms/step - loss: 0.4199 - accuracy: 0.7991 - val_loss: 0.3372 - val_accuracy: 0.8434\n",
      "Epoch 10/1000\n",
      " 1/32 [..............................] - ETA: 0s - loss: 0.4180 - accuracy: 0.7891\n",
      "Epoch 10: saving model to model/keypoint_classifier\\keypoint_classifier_custom_feb.hdf5\n",
      "32/32 [==============================] - 0s 3ms/step - loss: 0.4132 - accuracy: 0.8001 - val_loss: 0.3184 - val_accuracy: 0.8632\n",
      "Epoch 11/1000\n",
      " 1/32 [..............................] - ETA: 0s - loss: 0.3813 - accuracy: 0.8125\n",
      "Epoch 11: saving model to model/keypoint_classifier\\keypoint_classifier_custom_feb.hdf5\n",
      "32/32 [==============================] - 0s 3ms/step - loss: 0.4084 - accuracy: 0.8043 - val_loss: 0.3049 - val_accuracy: 0.8713\n",
      "Epoch 12/1000\n",
      "25/32 [======================>.......] - ETA: 0s - loss: 0.3903 - accuracy: 0.8250\n",
      "Epoch 12: saving model to model/keypoint_classifier\\keypoint_classifier_custom_feb.hdf5\n",
      "32/32 [==============================] - 0s 4ms/step - loss: 0.3889 - accuracy: 0.8222 - val_loss: 0.2878 - val_accuracy: 0.8831\n",
      "Epoch 13/1000\n",
      "25/32 [======================>.......] - ETA: 0s - loss: 0.3859 - accuracy: 0.8294\n",
      "Epoch 13: saving model to model/keypoint_classifier\\keypoint_classifier_custom_feb.hdf5\n",
      "32/32 [==============================] - 0s 4ms/step - loss: 0.3808 - accuracy: 0.8325 - val_loss: 0.2733 - val_accuracy: 0.9088\n",
      "Epoch 14/1000\n",
      "28/32 [=========================>....] - ETA: 0s - loss: 0.3765 - accuracy: 0.8200\n",
      "Epoch 14: saving model to model/keypoint_classifier\\keypoint_classifier_custom_feb.hdf5\n",
      "32/32 [==============================] - 0s 4ms/step - loss: 0.3766 - accuracy: 0.8205 - val_loss: 0.2615 - val_accuracy: 0.9191\n",
      "Epoch 15/1000\n",
      "32/32 [==============================] - ETA: 0s - loss: 0.3707 - accuracy: 0.8352\n",
      "Epoch 15: saving model to model/keypoint_classifier\\keypoint_classifier_custom_feb.hdf5\n",
      "32/32 [==============================] - 0s 3ms/step - loss: 0.3707 - accuracy: 0.8352 - val_loss: 0.2490 - val_accuracy: 0.9301\n",
      "Epoch 16/1000\n",
      "32/32 [==============================] - ETA: 0s - loss: 0.3531 - accuracy: 0.8484\n",
      "Epoch 16: saving model to model/keypoint_classifier\\keypoint_classifier_custom_feb.hdf5\n",
      "32/32 [==============================] - 0s 3ms/step - loss: 0.3531 - accuracy: 0.8484 - val_loss: 0.2385 - val_accuracy: 0.9301\n",
      "Epoch 17/1000\n",
      "21/32 [==================>...........] - ETA: 0s - loss: 0.3580 - accuracy: 0.8356\n",
      "Epoch 17: saving model to model/keypoint_classifier\\keypoint_classifier_custom_feb.hdf5\n",
      "32/32 [==============================] - 0s 4ms/step - loss: 0.3432 - accuracy: 0.8442 - val_loss: 0.2273 - val_accuracy: 0.9390\n",
      "Epoch 18/1000\n",
      " 1/32 [..............................] - ETA: 0s - loss: 0.3308 - accuracy: 0.8672\n",
      "Epoch 18: saving model to model/keypoint_classifier\\keypoint_classifier_custom_feb.hdf5\n",
      "32/32 [==============================] - 0s 3ms/step - loss: 0.3504 - accuracy: 0.8489 - val_loss: 0.2244 - val_accuracy: 0.9434\n",
      "Epoch 19/1000\n",
      "31/32 [============================>.] - ETA: 0s - loss: 0.3294 - accuracy: 0.8558\n",
      "Epoch 19: saving model to model/keypoint_classifier\\keypoint_classifier_custom_feb.hdf5\n",
      "32/32 [==============================] - 0s 3ms/step - loss: 0.3294 - accuracy: 0.8555 - val_loss: 0.2138 - val_accuracy: 0.9426\n",
      "Epoch 20/1000\n",
      "26/32 [=======================>......] - ETA: 0s - loss: 0.3138 - accuracy: 0.8666\n",
      "Epoch 20: saving model to model/keypoint_classifier\\keypoint_classifier_custom_feb.hdf5\n",
      "32/32 [==============================] - 0s 4ms/step - loss: 0.3182 - accuracy: 0.8631 - val_loss: 0.1984 - val_accuracy: 0.9485\n",
      "Epoch 21/1000\n",
      "26/32 [=======================>......] - ETA: 0s - loss: 0.3207 - accuracy: 0.8630\n",
      "Epoch 21: saving model to model/keypoint_classifier\\keypoint_classifier_custom_feb.hdf5\n",
      "32/32 [==============================] - 0s 4ms/step - loss: 0.3246 - accuracy: 0.8582 - val_loss: 0.1938 - val_accuracy: 0.9529\n",
      "Epoch 22/1000\n",
      "22/32 [===================>..........] - ETA: 0s - loss: 0.3170 - accuracy: 0.8718\n",
      "Epoch 22: saving model to model/keypoint_classifier\\keypoint_classifier_custom_feb.hdf5\n",
      "32/32 [==============================] - 0s 4ms/step - loss: 0.3239 - accuracy: 0.8683 - val_loss: 0.1905 - val_accuracy: 0.9559\n",
      "Epoch 23/1000\n",
      " 1/32 [..............................] - ETA: 0s - loss: 0.3266 - accuracy: 0.8516\n",
      "Epoch 23: saving model to model/keypoint_classifier\\keypoint_classifier_custom_feb.hdf5\n",
      "32/32 [==============================] - 0s 4ms/step - loss: 0.3188 - accuracy: 0.8602 - val_loss: 0.1864 - val_accuracy: 0.9566\n",
      "Epoch 24/1000\n",
      "24/32 [=====================>........] - ETA: 0s - loss: 0.3077 - accuracy: 0.8659\n",
      "Epoch 24: saving model to model/keypoint_classifier\\keypoint_classifier_custom_feb.hdf5\n",
      "32/32 [==============================] - 0s 5ms/step - loss: 0.3038 - accuracy: 0.8651 - val_loss: 0.1807 - val_accuracy: 0.9551\n",
      "Epoch 25/1000\n",
      "28/32 [=========================>....] - ETA: 0s - loss: 0.3029 - accuracy: 0.8733\n",
      "Epoch 25: saving model to model/keypoint_classifier\\keypoint_classifier_custom_feb.hdf5\n",
      "32/32 [==============================] - 0s 4ms/step - loss: 0.3049 - accuracy: 0.8725 - val_loss: 0.1769 - val_accuracy: 0.9588\n",
      "Epoch 26/1000\n",
      "29/32 [==========================>...] - ETA: 0s - loss: 0.3061 - accuracy: 0.8718\n",
      "Epoch 26: saving model to model/keypoint_classifier\\keypoint_classifier_custom_feb.hdf5\n",
      "32/32 [==============================] - 0s 4ms/step - loss: 0.3029 - accuracy: 0.8720 - val_loss: 0.1727 - val_accuracy: 0.9581\n",
      "Epoch 27/1000\n",
      "28/32 [=========================>....] - ETA: 0s - loss: 0.3098 - accuracy: 0.8655\n",
      "Epoch 27: saving model to model/keypoint_classifier\\keypoint_classifier_custom_feb.hdf5\n",
      "32/32 [==============================] - 0s 3ms/step - loss: 0.3098 - accuracy: 0.8651 - val_loss: 0.1687 - val_accuracy: 0.9625\n",
      "Epoch 28/1000\n",
      " 1/32 [..............................] - ETA: 0s - loss: 0.2857 - accuracy: 0.8828\n",
      "Epoch 28: saving model to model/keypoint_classifier\\keypoint_classifier_custom_feb.hdf5\n",
      "32/32 [==============================] - 0s 3ms/step - loss: 0.2953 - accuracy: 0.8756 - val_loss: 0.1632 - val_accuracy: 0.9654\n",
      "Epoch 29/1000\n",
      "27/32 [========================>.....] - ETA: 0s - loss: 0.3019 - accuracy: 0.8657\n",
      "Epoch 29: saving model to model/keypoint_classifier\\keypoint_classifier_custom_feb.hdf5\n",
      "32/32 [==============================] - 0s 4ms/step - loss: 0.3079 - accuracy: 0.8656 - val_loss: 0.1648 - val_accuracy: 0.9625\n",
      "Epoch 30/1000\n",
      "30/32 [===========================>..] - ETA: 0s - loss: 0.2978 - accuracy: 0.8758\n",
      "Epoch 30: saving model to model/keypoint_classifier\\keypoint_classifier_custom_feb.hdf5\n",
      "32/32 [==============================] - 0s 3ms/step - loss: 0.2963 - accuracy: 0.8764 - val_loss: 0.1601 - val_accuracy: 0.9625\n",
      "Epoch 31/1000\n",
      "30/32 [===========================>..] - ETA: 0s - loss: 0.2819 - accuracy: 0.8865\n",
      "Epoch 31: saving model to model/keypoint_classifier\\keypoint_classifier_custom_feb.hdf5\n",
      "32/32 [==============================] - 0s 4ms/step - loss: 0.2829 - accuracy: 0.8859 - val_loss: 0.1574 - val_accuracy: 0.9640\n",
      "Epoch 32/1000\n",
      "29/32 [==========================>...] - ETA: 0s - loss: 0.2983 - accuracy: 0.8704\n",
      "Epoch 32: saving model to model/keypoint_classifier\\keypoint_classifier_custom_feb.hdf5\n",
      "32/32 [==============================] - 0s 4ms/step - loss: 0.2965 - accuracy: 0.8715 - val_loss: 0.1555 - val_accuracy: 0.9654\n",
      "Epoch 33/1000\n",
      " 1/32 [..............................] - ETA: 0s - loss: 0.2902 - accuracy: 0.8984\n",
      "Epoch 33: saving model to model/keypoint_classifier\\keypoint_classifier_custom_feb.hdf5\n",
      "32/32 [==============================] - 0s 3ms/step - loss: 0.2839 - accuracy: 0.8818 - val_loss: 0.1511 - val_accuracy: 0.9691\n",
      "Epoch 34/1000\n",
      "26/32 [=======================>......] - ETA: 0s - loss: 0.2747 - accuracy: 0.8882\n",
      "Epoch 34: saving model to model/keypoint_classifier\\keypoint_classifier_custom_feb.hdf5\n",
      "32/32 [==============================] - 0s 4ms/step - loss: 0.2745 - accuracy: 0.8906 - val_loss: 0.1449 - val_accuracy: 0.9699\n",
      "Epoch 35/1000\n",
      " 1/32 [..............................] - ETA: 0s - loss: 0.2759 - accuracy: 0.8594\n",
      "Epoch 35: saving model to model/keypoint_classifier\\keypoint_classifier_custom_feb.hdf5\n",
      "32/32 [==============================] - 0s 3ms/step - loss: 0.2765 - accuracy: 0.8825 - val_loss: 0.1482 - val_accuracy: 0.9654\n",
      "Epoch 36/1000\n",
      " 1/32 [..............................] - ETA: 0s - loss: 0.3310 - accuracy: 0.8750\n",
      "Epoch 36: saving model to model/keypoint_classifier\\keypoint_classifier_custom_feb.hdf5\n",
      "32/32 [==============================] - 0s 3ms/step - loss: 0.2767 - accuracy: 0.8845 - val_loss: 0.1432 - val_accuracy: 0.9713\n",
      "Epoch 37/1000\n",
      " 1/32 [..............................] - ETA: 0s - loss: 0.2708 - accuracy: 0.8594\n",
      "Epoch 37: saving model to model/keypoint_classifier\\keypoint_classifier_custom_feb.hdf5\n",
      "32/32 [==============================] - 0s 3ms/step - loss: 0.2640 - accuracy: 0.8967 - val_loss: 0.1402 - val_accuracy: 0.9713\n",
      "Epoch 38/1000\n",
      " 1/32 [..............................] - ETA: 0s - loss: 0.2584 - accuracy: 0.8984\n",
      "Epoch 38: saving model to model/keypoint_classifier\\keypoint_classifier_custom_feb.hdf5\n",
      "32/32 [==============================] - 0s 3ms/step - loss: 0.2651 - accuracy: 0.8958 - val_loss: 0.1342 - val_accuracy: 0.9743\n",
      "Epoch 39/1000\n",
      " 1/32 [..............................] - ETA: 0s - loss: 0.2275 - accuracy: 0.9219\n",
      "Epoch 39: saving model to model/keypoint_classifier\\keypoint_classifier_custom_feb.hdf5\n",
      "32/32 [==============================] - 0s 3ms/step - loss: 0.2617 - accuracy: 0.8928 - val_loss: 0.1342 - val_accuracy: 0.9743\n",
      "Epoch 40/1000\n",
      "27/32 [========================>.....] - ETA: 0s - loss: 0.2697 - accuracy: 0.8924\n",
      "Epoch 40: saving model to model/keypoint_classifier\\keypoint_classifier_custom_feb.hdf5\n",
      "32/32 [==============================] - 0s 4ms/step - loss: 0.2708 - accuracy: 0.8933 - val_loss: 0.1375 - val_accuracy: 0.9743\n",
      "Epoch 41/1000\n",
      "27/32 [========================>.....] - ETA: 0s - loss: 0.2757 - accuracy: 0.8831\n",
      "Epoch 41: saving model to model/keypoint_classifier\\keypoint_classifier_custom_feb.hdf5\n",
      "32/32 [==============================] - 0s 4ms/step - loss: 0.2716 - accuracy: 0.8855 - val_loss: 0.1327 - val_accuracy: 0.9757\n",
      "Epoch 42/1000\n",
      "25/32 [======================>.......] - ETA: 0s - loss: 0.2661 - accuracy: 0.8888\n",
      "Epoch 42: saving model to model/keypoint_classifier\\keypoint_classifier_custom_feb.hdf5\n",
      "32/32 [==============================] - 0s 4ms/step - loss: 0.2615 - accuracy: 0.8928 - val_loss: 0.1338 - val_accuracy: 0.9765\n",
      "Epoch 43/1000\n",
      "26/32 [=======================>......] - ETA: 0s - loss: 0.2687 - accuracy: 0.8864\n",
      "Epoch 43: saving model to model/keypoint_classifier\\keypoint_classifier_custom_feb.hdf5\n",
      "32/32 [==============================] - 0s 4ms/step - loss: 0.2679 - accuracy: 0.8886 - val_loss: 0.1306 - val_accuracy: 0.9757\n",
      "Epoch 44/1000\n",
      "32/32 [==============================] - ETA: 0s - loss: 0.2649 - accuracy: 0.8913\n",
      "Epoch 44: saving model to model/keypoint_classifier\\keypoint_classifier_custom_feb.hdf5\n",
      "32/32 [==============================] - 0s 3ms/step - loss: 0.2649 - accuracy: 0.8913 - val_loss: 0.1295 - val_accuracy: 0.9757\n",
      "Epoch 45/1000\n",
      " 1/32 [..............................] - ETA: 0s - loss: 0.3280 - accuracy: 0.8672\n",
      "Epoch 45: saving model to model/keypoint_classifier\\keypoint_classifier_custom_feb.hdf5\n",
      "32/32 [==============================] - 0s 3ms/step - loss: 0.2483 - accuracy: 0.8987 - val_loss: 0.1266 - val_accuracy: 0.9750\n",
      "Epoch 46/1000\n",
      " 1/32 [..............................] - ETA: 0s - loss: 0.2395 - accuracy: 0.9297\n",
      "Epoch 46: saving model to model/keypoint_classifier\\keypoint_classifier_custom_feb.hdf5\n",
      "32/32 [==============================] - 0s 3ms/step - loss: 0.2528 - accuracy: 0.8992 - val_loss: 0.1271 - val_accuracy: 0.9757\n",
      "Epoch 47/1000\n",
      " 1/32 [..............................] - ETA: 0s - loss: 0.2726 - accuracy: 0.8750\n",
      "Epoch 47: saving model to model/keypoint_classifier\\keypoint_classifier_custom_feb.hdf5\n",
      "32/32 [==============================] - 0s 3ms/step - loss: 0.2433 - accuracy: 0.9012 - val_loss: 0.1273 - val_accuracy: 0.9750\n",
      "Epoch 48/1000\n",
      "32/32 [==============================] - ETA: 0s - loss: 0.2484 - accuracy: 0.8992\n",
      "Epoch 48: saving model to model/keypoint_classifier\\keypoint_classifier_custom_feb.hdf5\n",
      "32/32 [==============================] - 0s 3ms/step - loss: 0.2484 - accuracy: 0.8992 - val_loss: 0.1271 - val_accuracy: 0.9750\n",
      "Epoch 49/1000\n",
      "30/32 [===========================>..] - ETA: 0s - loss: 0.2448 - accuracy: 0.9042\n",
      "Epoch 49: saving model to model/keypoint_classifier\\keypoint_classifier_custom_feb.hdf5\n",
      "32/32 [==============================] - 0s 4ms/step - loss: 0.2505 - accuracy: 0.9021 - val_loss: 0.1216 - val_accuracy: 0.9757\n",
      "Epoch 50/1000\n",
      "23/32 [====================>.........] - ETA: 0s - loss: 0.2605 - accuracy: 0.8896\n",
      "Epoch 50: saving model to model/keypoint_classifier\\keypoint_classifier_custom_feb.hdf5\n",
      "32/32 [==============================] - 0s 5ms/step - loss: 0.2601 - accuracy: 0.8894 - val_loss: 0.1199 - val_accuracy: 0.9801\n",
      "Epoch 51/1000\n",
      "31/32 [============================>.] - ETA: 0s - loss: 0.2504 - accuracy: 0.9005\n",
      "Epoch 51: saving model to model/keypoint_classifier\\keypoint_classifier_custom_feb.hdf5\n",
      "32/32 [==============================] - 0s 3ms/step - loss: 0.2508 - accuracy: 0.9002 - val_loss: 0.1194 - val_accuracy: 0.9787\n",
      "Epoch 52/1000\n",
      "31/32 [============================>.] - ETA: 0s - loss: 0.2420 - accuracy: 0.9078\n",
      "Epoch 52: saving model to model/keypoint_classifier\\keypoint_classifier_custom_feb.hdf5\n",
      "32/32 [==============================] - 0s 3ms/step - loss: 0.2420 - accuracy: 0.9080 - val_loss: 0.1162 - val_accuracy: 0.9787\n",
      "Epoch 53/1000\n",
      "30/32 [===========================>..] - ETA: 0s - loss: 0.2303 - accuracy: 0.9102\n",
      "Epoch 53: saving model to model/keypoint_classifier\\keypoint_classifier_custom_feb.hdf5\n",
      "32/32 [==============================] - 0s 4ms/step - loss: 0.2316 - accuracy: 0.9088 - val_loss: 0.1196 - val_accuracy: 0.9765\n",
      "Epoch 54/1000\n",
      "27/32 [========================>.....] - ETA: 0s - loss: 0.2386 - accuracy: 0.9089\n",
      "Epoch 54: saving model to model/keypoint_classifier\\keypoint_classifier_custom_feb.hdf5\n",
      "32/32 [==============================] - 0s 4ms/step - loss: 0.2389 - accuracy: 0.9073 - val_loss: 0.1184 - val_accuracy: 0.9801\n",
      "Epoch 55/1000\n",
      " 1/32 [..............................] - ETA: 0s - loss: 0.1870 - accuracy: 0.9062\n",
      "Epoch 55: saving model to model/keypoint_classifier\\keypoint_classifier_custom_feb.hdf5\n",
      "32/32 [==============================] - 0s 3ms/step - loss: 0.2477 - accuracy: 0.8970 - val_loss: 0.1179 - val_accuracy: 0.9772\n",
      "Epoch 56/1000\n",
      " 1/32 [..............................] - ETA: 0s - loss: 0.2079 - accuracy: 0.9062\n",
      "Epoch 56: saving model to model/keypoint_classifier\\keypoint_classifier_custom_feb.hdf5\n",
      "32/32 [==============================] - 0s 3ms/step - loss: 0.2403 - accuracy: 0.9056 - val_loss: 0.1218 - val_accuracy: 0.9779\n",
      "Epoch 57/1000\n",
      "26/32 [=======================>......] - ETA: 0s - loss: 0.2264 - accuracy: 0.9072\n",
      "Epoch 57: saving model to model/keypoint_classifier\\keypoint_classifier_custom_feb.hdf5\n",
      "32/32 [==============================] - 0s 4ms/step - loss: 0.2322 - accuracy: 0.9061 - val_loss: 0.1149 - val_accuracy: 0.9743\n",
      "Epoch 58/1000\n",
      "30/32 [===========================>..] - ETA: 0s - loss: 0.2367 - accuracy: 0.9029\n",
      "Epoch 58: saving model to model/keypoint_classifier\\keypoint_classifier_custom_feb.hdf5\n",
      "32/32 [==============================] - 0s 3ms/step - loss: 0.2362 - accuracy: 0.9029 - val_loss: 0.1145 - val_accuracy: 0.9779\n",
      "Epoch 59/1000\n",
      " 1/32 [..............................] - ETA: 0s - loss: 0.2868 - accuracy: 0.8906\n",
      "Epoch 59: saving model to model/keypoint_classifier\\keypoint_classifier_custom_feb.hdf5\n",
      "32/32 [==============================] - 0s 3ms/step - loss: 0.2469 - accuracy: 0.8994 - val_loss: 0.1200 - val_accuracy: 0.9779\n",
      "Epoch 60/1000\n",
      "32/32 [==============================] - ETA: 0s - loss: 0.2328 - accuracy: 0.9043\n",
      "Epoch 60: saving model to model/keypoint_classifier\\keypoint_classifier_custom_feb.hdf5\n",
      "32/32 [==============================] - 0s 4ms/step - loss: 0.2328 - accuracy: 0.9043 - val_loss: 0.1108 - val_accuracy: 0.9779\n",
      "Epoch 61/1000\n",
      "26/32 [=======================>......] - ETA: 0s - loss: 0.2370 - accuracy: 0.8999\n",
      "Epoch 61: saving model to model/keypoint_classifier\\keypoint_classifier_custom_feb.hdf5\n",
      "32/32 [==============================] - 0s 4ms/step - loss: 0.2358 - accuracy: 0.9007 - val_loss: 0.1128 - val_accuracy: 0.9779\n",
      "Epoch 62/1000\n",
      "27/32 [========================>.....] - ETA: 0s - loss: 0.2307 - accuracy: 0.9135\n",
      "Epoch 62: saving model to model/keypoint_classifier\\keypoint_classifier_custom_feb.hdf5\n",
      "32/32 [==============================] - 0s 4ms/step - loss: 0.2279 - accuracy: 0.9124 - val_loss: 0.1101 - val_accuracy: 0.9787\n",
      "Epoch 63/1000\n",
      " 1/32 [..............................] - ETA: 0s - loss: 0.2535 - accuracy: 0.9062\n",
      "Epoch 63: saving model to model/keypoint_classifier\\keypoint_classifier_custom_feb.hdf5\n",
      "32/32 [==============================] - 0s 3ms/step - loss: 0.2323 - accuracy: 0.9058 - val_loss: 0.1138 - val_accuracy: 0.9750\n",
      "Epoch 64/1000\n",
      " 1/32 [..............................] - ETA: 0s - loss: 0.2579 - accuracy: 0.9297\n",
      "Epoch 64: saving model to model/keypoint_classifier\\keypoint_classifier_custom_feb.hdf5\n",
      "32/32 [==============================] - 0s 3ms/step - loss: 0.2334 - accuracy: 0.9080 - val_loss: 0.1129 - val_accuracy: 0.9772\n",
      "Epoch 65/1000\n",
      " 1/32 [..............................] - ETA: 0s - loss: 0.2547 - accuracy: 0.9141\n",
      "Epoch 65: saving model to model/keypoint_classifier\\keypoint_classifier_custom_feb.hdf5\n",
      "32/32 [==============================] - 0s 3ms/step - loss: 0.2401 - accuracy: 0.9036 - val_loss: 0.1136 - val_accuracy: 0.9772\n",
      "Epoch 66/1000\n",
      " 1/32 [..............................] - ETA: 0s - loss: 0.2166 - accuracy: 0.9141\n",
      "Epoch 66: saving model to model/keypoint_classifier\\keypoint_classifier_custom_feb.hdf5\n",
      "32/32 [==============================] - 0s 3ms/step - loss: 0.2312 - accuracy: 0.9100 - val_loss: 0.1090 - val_accuracy: 0.9801\n",
      "Epoch 67/1000\n",
      " 1/32 [..............................] - ETA: 0s - loss: 0.1992 - accuracy: 0.9141\n",
      "Epoch 67: saving model to model/keypoint_classifier\\keypoint_classifier_custom_feb.hdf5\n",
      "32/32 [==============================] - 0s 3ms/step - loss: 0.2281 - accuracy: 0.9065 - val_loss: 0.1098 - val_accuracy: 0.9772\n",
      "Epoch 68/1000\n",
      "25/32 [======================>.......] - ETA: 0s - loss: 0.2278 - accuracy: 0.9094\n",
      "Epoch 68: saving model to model/keypoint_classifier\\keypoint_classifier_custom_feb.hdf5\n",
      "32/32 [==============================] - 0s 4ms/step - loss: 0.2388 - accuracy: 0.9048 - val_loss: 0.1097 - val_accuracy: 0.9757\n",
      "Epoch 69/1000\n",
      "24/32 [=====================>........] - ETA: 0s - loss: 0.2385 - accuracy: 0.9082\n",
      "Epoch 69: saving model to model/keypoint_classifier\\keypoint_classifier_custom_feb.hdf5\n",
      "32/32 [==============================] - 0s 4ms/step - loss: 0.2354 - accuracy: 0.9088 - val_loss: 0.1107 - val_accuracy: 0.9787\n",
      "Epoch 70/1000\n",
      "30/32 [===========================>..] - ETA: 0s - loss: 0.2224 - accuracy: 0.9104\n",
      "Epoch 70: saving model to model/keypoint_classifier\\keypoint_classifier_custom_feb.hdf5\n",
      "32/32 [==============================] - 0s 4ms/step - loss: 0.2245 - accuracy: 0.9092 - val_loss: 0.1063 - val_accuracy: 0.9787\n",
      "Epoch 71/1000\n",
      "19/32 [================>.............] - ETA: 0s - loss: 0.2122 - accuracy: 0.9169\n",
      "Epoch 71: saving model to model/keypoint_classifier\\keypoint_classifier_custom_feb.hdf5\n",
      "32/32 [==============================] - 0s 5ms/step - loss: 0.2170 - accuracy: 0.9127 - val_loss: 0.1119 - val_accuracy: 0.9743\n",
      "Epoch 72/1000\n",
      "25/32 [======================>.......] - ETA: 0s - loss: 0.2364 - accuracy: 0.9078\n",
      "Epoch 72: saving model to model/keypoint_classifier\\keypoint_classifier_custom_feb.hdf5\n",
      "32/32 [==============================] - 0s 4ms/step - loss: 0.2314 - accuracy: 0.9100 - val_loss: 0.1106 - val_accuracy: 0.9794\n",
      "Epoch 73/1000\n",
      "25/32 [======================>.......] - ETA: 0s - loss: 0.2332 - accuracy: 0.9106\n",
      "Epoch 73: saving model to model/keypoint_classifier\\keypoint_classifier_custom_feb.hdf5\n",
      "32/32 [==============================] - 0s 4ms/step - loss: 0.2335 - accuracy: 0.9117 - val_loss: 0.1104 - val_accuracy: 0.9779\n",
      "Epoch 74/1000\n",
      " 1/32 [..............................] - ETA: 0s - loss: 0.2232 - accuracy: 0.8906\n",
      "Epoch 74: saving model to model/keypoint_classifier\\keypoint_classifier_custom_feb.hdf5\n",
      "32/32 [==============================] - 0s 3ms/step - loss: 0.2212 - accuracy: 0.9124 - val_loss: 0.1085 - val_accuracy: 0.9779\n",
      "Epoch 75/1000\n",
      " 1/32 [..............................] - ETA: 0s - loss: 0.1651 - accuracy: 0.9531\n",
      "Epoch 75: saving model to model/keypoint_classifier\\keypoint_classifier_custom_feb.hdf5\n",
      "32/32 [==============================] - 0s 3ms/step - loss: 0.2083 - accuracy: 0.9208 - val_loss: 0.1090 - val_accuracy: 0.9743\n",
      "Epoch 76/1000\n",
      " 1/32 [..............................] - ETA: 0s - loss: 0.2465 - accuracy: 0.8672\n",
      "Epoch 76: saving model to model/keypoint_classifier\\keypoint_classifier_custom_feb.hdf5\n",
      "32/32 [==============================] - 0s 3ms/step - loss: 0.2299 - accuracy: 0.9061 - val_loss: 0.1039 - val_accuracy: 0.9809\n",
      "Epoch 77/1000\n",
      " 1/32 [..............................] - ETA: 0s - loss: 0.2076 - accuracy: 0.9219\n",
      "Epoch 77: saving model to model/keypoint_classifier\\keypoint_classifier_custom_feb.hdf5\n",
      "32/32 [==============================] - 0s 3ms/step - loss: 0.2288 - accuracy: 0.9083 - val_loss: 0.1052 - val_accuracy: 0.9765\n",
      "Epoch 78/1000\n",
      "25/32 [======================>.......] - ETA: 0s - loss: 0.2230 - accuracy: 0.9087\n",
      "Epoch 78: saving model to model/keypoint_classifier\\keypoint_classifier_custom_feb.hdf5\n",
      "32/32 [==============================] - 0s 5ms/step - loss: 0.2180 - accuracy: 0.9117 - val_loss: 0.1088 - val_accuracy: 0.9779\n",
      "Epoch 79/1000\n",
      "25/32 [======================>.......] - ETA: 0s - loss: 0.2256 - accuracy: 0.9078\n",
      "Epoch 79: saving model to model/keypoint_classifier\\keypoint_classifier_custom_feb.hdf5\n",
      "32/32 [==============================] - 0s 4ms/step - loss: 0.2206 - accuracy: 0.9100 - val_loss: 0.1055 - val_accuracy: 0.9809\n",
      "Epoch 80/1000\n",
      "31/32 [============================>.] - ETA: 0s - loss: 0.2211 - accuracy: 0.9098\n",
      "Epoch 80: saving model to model/keypoint_classifier\\keypoint_classifier_custom_feb.hdf5\n",
      "32/32 [==============================] - 0s 3ms/step - loss: 0.2220 - accuracy: 0.9095 - val_loss: 0.1038 - val_accuracy: 0.9801\n",
      "Epoch 81/1000\n",
      " 1/32 [..............................] - ETA: 0s - loss: 0.2483 - accuracy: 0.8984\n",
      "Epoch 81: saving model to model/keypoint_classifier\\keypoint_classifier_custom_feb.hdf5\n",
      "32/32 [==============================] - 0s 3ms/step - loss: 0.2014 - accuracy: 0.9269 - val_loss: 0.0991 - val_accuracy: 0.9809\n",
      "Epoch 82/1000\n",
      " 1/32 [..............................] - ETA: 0s - loss: 0.1593 - accuracy: 0.9219\n",
      "Epoch 82: saving model to model/keypoint_classifier\\keypoint_classifier_custom_feb.hdf5\n",
      "32/32 [==============================] - 0s 3ms/step - loss: 0.2245 - accuracy: 0.9154 - val_loss: 0.1007 - val_accuracy: 0.9824\n",
      "Epoch 83/1000\n",
      "27/32 [========================>.....] - ETA: 0s - loss: 0.1986 - accuracy: 0.9213\n",
      "Epoch 83: saving model to model/keypoint_classifier\\keypoint_classifier_custom_feb.hdf5\n",
      "32/32 [==============================] - 0s 4ms/step - loss: 0.2016 - accuracy: 0.9218 - val_loss: 0.0956 - val_accuracy: 0.9824\n",
      "Epoch 84/1000\n",
      " 1/32 [..............................] - ETA: 0s - loss: 0.1679 - accuracy: 0.9141\n",
      "Epoch 84: saving model to model/keypoint_classifier\\keypoint_classifier_custom_feb.hdf5\n",
      "32/32 [==============================] - 0s 3ms/step - loss: 0.2149 - accuracy: 0.9169 - val_loss: 0.0983 - val_accuracy: 0.9801\n",
      "Epoch 85/1000\n",
      " 1/32 [..............................] - ETA: 0s - loss: 0.1906 - accuracy: 0.9219\n",
      "Epoch 85: saving model to model/keypoint_classifier\\keypoint_classifier_custom_feb.hdf5\n",
      "32/32 [==============================] - 0s 3ms/step - loss: 0.2251 - accuracy: 0.9102 - val_loss: 0.1013 - val_accuracy: 0.9809\n",
      "Epoch 86/1000\n",
      "29/32 [==========================>...] - ETA: 0s - loss: 0.2102 - accuracy: 0.9189\n",
      "Epoch 86: saving model to model/keypoint_classifier\\keypoint_classifier_custom_feb.hdf5\n",
      "32/32 [==============================] - 0s 4ms/step - loss: 0.2107 - accuracy: 0.9191 - val_loss: 0.1047 - val_accuracy: 0.9779\n",
      "Epoch 87/1000\n",
      "26/32 [=======================>......] - ETA: 0s - loss: 0.2194 - accuracy: 0.9081\n",
      "Epoch 87: saving model to model/keypoint_classifier\\keypoint_classifier_custom_feb.hdf5\n",
      "32/32 [==============================] - 0s 4ms/step - loss: 0.2241 - accuracy: 0.9073 - val_loss: 0.1057 - val_accuracy: 0.9779\n",
      "Epoch 88/1000\n",
      " 1/32 [..............................] - ETA: 0s - loss: 0.2167 - accuracy: 0.9453\n",
      "Epoch 88: saving model to model/keypoint_classifier\\keypoint_classifier_custom_feb.hdf5\n",
      "32/32 [==============================] - 0s 3ms/step - loss: 0.2258 - accuracy: 0.9107 - val_loss: 0.1024 - val_accuracy: 0.9779\n",
      "Epoch 89/1000\n",
      " 1/32 [..............................] - ETA: 0s - loss: 0.2996 - accuracy: 0.8516\n",
      "Epoch 89: saving model to model/keypoint_classifier\\keypoint_classifier_custom_feb.hdf5\n",
      "32/32 [==============================] - 0s 3ms/step - loss: 0.2021 - accuracy: 0.9210 - val_loss: 0.0969 - val_accuracy: 0.9824\n",
      "Epoch 90/1000\n",
      "29/32 [==========================>...] - ETA: 0s - loss: 0.2075 - accuracy: 0.9248\n",
      "Epoch 90: saving model to model/keypoint_classifier\\keypoint_classifier_custom_feb.hdf5\n",
      "32/32 [==============================] - 0s 4ms/step - loss: 0.2071 - accuracy: 0.9245 - val_loss: 0.1004 - val_accuracy: 0.9757\n",
      "Epoch 91/1000\n",
      "29/32 [==========================>...] - ETA: 0s - loss: 0.2098 - accuracy: 0.9149\n",
      "Epoch 91: saving model to model/keypoint_classifier\\keypoint_classifier_custom_feb.hdf5\n",
      "32/32 [==============================] - 0s 3ms/step - loss: 0.2123 - accuracy: 0.9137 - val_loss: 0.0988 - val_accuracy: 0.9772\n",
      "Epoch 92/1000\n",
      " 1/32 [..............................] - ETA: 0s - loss: 0.1748 - accuracy: 0.9219\n",
      "Epoch 92: saving model to model/keypoint_classifier\\keypoint_classifier_custom_feb.hdf5\n",
      "32/32 [==============================] - 0s 3ms/step - loss: 0.2234 - accuracy: 0.9112 - val_loss: 0.0992 - val_accuracy: 0.9772\n",
      "Epoch 93/1000\n",
      "29/32 [==========================>...] - ETA: 0s - loss: 0.2166 - accuracy: 0.9173\n",
      "Epoch 93: saving model to model/keypoint_classifier\\keypoint_classifier_custom_feb.hdf5\n",
      "32/32 [==============================] - 0s 4ms/step - loss: 0.2170 - accuracy: 0.9173 - val_loss: 0.0986 - val_accuracy: 0.9809\n",
      "Epoch 94/1000\n",
      "32/32 [==============================] - ETA: 0s - loss: 0.2111 - accuracy: 0.9213\n",
      "Epoch 94: saving model to model/keypoint_classifier\\keypoint_classifier_custom_feb.hdf5\n",
      "32/32 [==============================] - 0s 3ms/step - loss: 0.2111 - accuracy: 0.9213 - val_loss: 0.1018 - val_accuracy: 0.9779\n",
      "Epoch 95/1000\n",
      "29/32 [==========================>...] - ETA: 0s - loss: 0.2108 - accuracy: 0.9143\n",
      "Epoch 95: saving model to model/keypoint_classifier\\keypoint_classifier_custom_feb.hdf5\n",
      "32/32 [==============================] - 0s 3ms/step - loss: 0.2143 - accuracy: 0.9146 - val_loss: 0.0980 - val_accuracy: 0.9779\n",
      "Epoch 96/1000\n",
      "26/32 [=======================>......] - ETA: 0s - loss: 0.2064 - accuracy: 0.9198\n",
      "Epoch 96: saving model to model/keypoint_classifier\\keypoint_classifier_custom_feb.hdf5\n",
      "32/32 [==============================] - 0s 4ms/step - loss: 0.2054 - accuracy: 0.9208 - val_loss: 0.0994 - val_accuracy: 0.9809\n",
      "Epoch 97/1000\n",
      "29/32 [==========================>...] - ETA: 0s - loss: 0.1944 - accuracy: 0.9243\n",
      "Epoch 97: saving model to model/keypoint_classifier\\keypoint_classifier_custom_feb.hdf5\n",
      "32/32 [==============================] - 0s 4ms/step - loss: 0.1955 - accuracy: 0.9247 - val_loss: 0.0995 - val_accuracy: 0.9824\n",
      "Epoch 98/1000\n",
      " 1/32 [..............................] - ETA: 0s - loss: 0.1915 - accuracy: 0.9375\n",
      "Epoch 98: saving model to model/keypoint_classifier\\keypoint_classifier_custom_feb.hdf5\n",
      "32/32 [==============================] - 0s 3ms/step - loss: 0.2141 - accuracy: 0.9169 - val_loss: 0.1009 - val_accuracy: 0.9787\n",
      "Epoch 99/1000\n",
      "31/32 [============================>.] - ETA: 0s - loss: 0.2120 - accuracy: 0.9191\n",
      "Epoch 99: saving model to model/keypoint_classifier\\keypoint_classifier_custom_feb.hdf5\n",
      "32/32 [==============================] - 0s 4ms/step - loss: 0.2128 - accuracy: 0.9186 - val_loss: 0.0991 - val_accuracy: 0.9816\n",
      "Epoch 100/1000\n",
      "28/32 [=========================>....] - ETA: 0s - loss: 0.2094 - accuracy: 0.9166\n",
      "Epoch 100: saving model to model/keypoint_classifier\\keypoint_classifier_custom_feb.hdf5\n",
      "32/32 [==============================] - 0s 4ms/step - loss: 0.2116 - accuracy: 0.9156 - val_loss: 0.1062 - val_accuracy: 0.9765\n",
      "Epoch 101/1000\n",
      "23/32 [====================>.........] - ETA: 0s - loss: 0.2195 - accuracy: 0.9168\n",
      "Epoch 101: saving model to model/keypoint_classifier\\keypoint_classifier_custom_feb.hdf5\n",
      "32/32 [==============================] - 0s 4ms/step - loss: 0.2110 - accuracy: 0.9195 - val_loss: 0.1015 - val_accuracy: 0.9787\n",
      "Epoch 102/1000\n",
      "30/32 [===========================>..] - ETA: 0s - loss: 0.2089 - accuracy: 0.9182\n",
      "Epoch 102: saving model to model/keypoint_classifier\\keypoint_classifier_custom_feb.hdf5\n",
      "32/32 [==============================] - 0s 3ms/step - loss: 0.2086 - accuracy: 0.9181 - val_loss: 0.1002 - val_accuracy: 0.9794\n",
      "Epoch 103/1000\n",
      "30/32 [===========================>..] - ETA: 0s - loss: 0.2168 - accuracy: 0.9148\n",
      "Epoch 103: saving model to model/keypoint_classifier\\keypoint_classifier_custom_feb.hdf5\n",
      "32/32 [==============================] - 0s 4ms/step - loss: 0.2141 - accuracy: 0.9166 - val_loss: 0.1013 - val_accuracy: 0.9816\n",
      "Epoch 103: early stopping\n"
     ]
    },
    {
     "data": {
      "text/plain": [
       "<keras.callbacks.History at 0x156ff35dbe0>"
      ]
     },
     "execution_count": 11,
     "metadata": {},
     "output_type": "execute_result"
    }
   ],
   "source": [
    "model.fit(\n",
    "    X_train,\n",
    "    y_train,\n",
    "    epochs=1000,\n",
    "    batch_size=128,\n",
    "    validation_data=(X_test, y_test),\n",
    "    callbacks=[cp_callback, es_callback]\n",
    ")"
   ]
  },
  {
   "cell_type": "code",
   "execution_count": 12,
   "metadata": {
    "colab": {
     "base_uri": "https://localhost:8080/"
    },
    "id": "pxvb2Y299hE3",
    "outputId": "59eb3185-2e37-4b9e-bc9d-ab1b8ac29b7f"
   },
   "outputs": [
    {
     "name": "stdout",
     "output_type": "stream",
     "text": [
      "11/11 [==============================] - 0s 1000us/step - loss: 0.1013 - accuracy: 0.9816\n"
     ]
    }
   ],
   "source": [
    "# Model evaluation\n",
    "val_loss, val_acc = model.evaluate(X_test, y_test, batch_size=128)"
   ]
  },
  {
   "cell_type": "code",
   "execution_count": 13,
   "metadata": {
    "id": "RBkmDeUW9hE4"
   },
   "outputs": [],
   "source": [
    "# Loading the saved model\n",
    "model = tf.keras.models.load_model(model_save_path)"
   ]
  },
  {
   "cell_type": "code",
   "execution_count": 14,
   "metadata": {
    "colab": {
     "base_uri": "https://localhost:8080/"
    },
    "id": "tFz9Tb0I9hE4",
    "outputId": "1c3b3528-54ae-4ee2-ab04-77429211cbef"
   },
   "outputs": [
    {
     "name": "stdout",
     "output_type": "stream",
     "text": [
      "[0.12906788 0.8709321 ]\n",
      "1\n"
     ]
    }
   ],
   "source": [
    "# Inference test\n",
    "predict_result = model.predict(np.array([X_test[0]]))\n",
    "print(np.squeeze(predict_result))\n",
    "print(np.argmax(np.squeeze(predict_result)))"
   ]
  },
  {
   "cell_type": "markdown",
   "metadata": {
    "id": "S3U4yNWx9hE4"
   },
   "source": [
    "# Confusion matrix"
   ]
  },
  {
   "cell_type": "code",
   "execution_count": 15,
   "metadata": {
    "colab": {
     "base_uri": "https://localhost:8080/",
     "height": 582
    },
    "id": "AP1V6SCk9hE5",
    "outputId": "08e41a80-7a4a-4619-8125-ecc371368d19"
   },
   "outputs": [
    {
     "data": {
      "image/png": "[encoded data removed]",
      "text/plain": [
       "<Figure size 504x432 with 2 Axes>"
      ]
     },
     "metadata": {
      "needs_background": "light"
     },
     "output_type": "display_data"
    },
    {
     "name": "stdout",
     "output_type": "stream",
     "text": [
      "Classification Report\n",
      "              precision    recall  f1-score   support\n",
      "\n",
      "           0       0.99      0.98      0.99       872\n",
      "           1       0.97      0.98      0.97       488\n",
      "\n",
      "    accuracy                           0.98      1360\n",
      "   macro avg       0.98      0.98      0.98      1360\n",
      "weighted avg       0.98      0.98      0.98      1360\n",
      "\n"
     ]
    }
   ],
   "source": [
    "import pandas as pd\n",
    "import seaborn as sns\n",
    "import matplotlib.pyplot as plt\n",
    "from sklearn.metrics import confusion_matrix, classification_report\n",
    "\n",
    "def print_confusion_matrix(y_true, y_pred, report=True):\n",
    "    labels = sorted(list(set(y_true)))\n",
    "    cmx_data = confusion_matrix(y_true, y_pred, labels=labels)\n",
    "    \n",
    "    df_cmx = pd.DataFrame(cmx_data, index=labels, columns=labels)\n",
    " \n",
    "    fig, ax = plt.subplots(figsize=(7, 6))\n",
    "    sns.heatmap(df_cmx, annot=True, fmt='g' ,square=False)\n",
    "    ax.set_ylim(len(set(y_true)), 0)\n",
    "    plt.show()\n",
    "    \n",
    "    if report:\n",
    "        print('Classification Report')\n",
    "        print(classification_report(y_test, y_pred))\n",
    "\n",
    "Y_pred = model.predict(X_test)\n",
    "y_pred = np.argmax(Y_pred, axis=1)\n",
    "\n",
    "print_confusion_matrix(y_test, y_pred)"
   ]
  },
  {
   "cell_type": "markdown",
   "metadata": {
    "id": "FNP6aqzc9hE5"
   },
   "source": [
    "# Convert to model for Tensorflow-Lite"
   ]
  },
  {
   "cell_type": "code",
   "execution_count": 16,
   "metadata": {
    "id": "ODjnYyld9hE6"
   },
   "outputs": [],
   "source": [
    "# Save as a model dedicated to inference\n",
    "model.save(model_save_path, include_optimizer=False)"
   ]
  },
  {
   "cell_type": "code",
   "execution_count": 17,
   "metadata": {
    "colab": {
     "base_uri": "https://localhost:8080/"
    },
    "id": "zRfuK8Y59hE6",
    "outputId": "a4ca585c-b5d5-4244-8291-8674063209bb"
   },
   "outputs": [
    {
     "name": "stdout",
     "output_type": "stream",
     "text": [
      "INFO:tensorflow:Assets written to: C:\\Users\\Jiannan\\AppData\\Local\\Temp\\tmpiub005_3\\assets\n"
     ]
    },
    {
     "name": "stderr",
     "output_type": "stream",
     "text": [
      "WARNING:absl:Buffer deduplication procedure will be skipped when flatbuffer library is not properly loaded\n"
     ]
    },
    {
     "data": {
      "text/plain": [
       "6320"
      ]
     },
     "execution_count": 17,
     "metadata": {},
     "output_type": "execute_result"
    }
   ],
   "source": [
    "# Transform model (quantization)\n",
    "\n",
    "converter = tf.lite.TFLiteConverter.from_keras_model(model)\n",
    "converter.optimizations = [tf.lite.Optimize.DEFAULT]\n",
    "tflite_quantized_model = converter.convert()\n",
    "\n",
    "open(tflite_save_path, 'wb').write(tflite_quantized_model)"
   ]
  },
  {
   "cell_type": "markdown",
   "metadata": {
    "id": "CHBPBXdx9hE6"
   },
   "source": [
    "# Inference test"
   ]
  },
  {
   "cell_type": "code",
   "execution_count": 18,
   "metadata": {
    "id": "mGAzLocO9hE7"
   },
   "outputs": [],
   "source": [
    "interpreter = tf.lite.Interpreter(model_path=tflite_save_path)\n",
    "interpreter.allocate_tensors()"
   ]
  },
  {
   "cell_type": "code",
   "execution_count": 19,
   "metadata": {
    "id": "oQuDK8YS9hE7"
   },
   "outputs": [],
   "source": [
    "# Get I / O tensor\n",
    "input_details = interpreter.get_input_details()\n",
    "output_details = interpreter.get_output_details()"
   ]
  },
  {
   "cell_type": "code",
   "execution_count": 20,
   "metadata": {
    "id": "2_ixAf_l9hE7"
   },
   "outputs": [],
   "source": [
    "interpreter.set_tensor(input_details[0]['index'], np.array([X_test[0]]))"
   ]
  },
  {
   "cell_type": "code",
   "execution_count": 21,
   "metadata": {
    "colab": {
     "base_uri": "https://localhost:8080/"
    },
    "id": "s4FoAnuc9hE7",
    "outputId": "91f18257-8d8b-4ef3-c558-e9b5f94fabbf",
    "scrolled": true
   },
   "outputs": [
    {
     "name": "stdout",
     "output_type": "stream",
     "text": [
      "CPU times: total: 0 ns\n",
      "Wall time: 0 ns\n"
     ]
    }
   ],
   "source": [
    "%%time\n",
    "# Inference implementation\n",
    "interpreter.invoke()\n",
    "tflite_results = interpreter.get_tensor(output_details[0]['index'])"
   ]
  },
  {
   "cell_type": "code",
   "execution_count": 22,
   "metadata": {
    "colab": {
     "base_uri": "https://localhost:8080/"
    },
    "id": "vONjp19J9hE8",
    "outputId": "77205e24-fd00-42c4-f7b6-e06e527c2cba"
   },
   "outputs": [
    {
     "name": "stdout",
     "output_type": "stream",
     "text": [
      "[0.12906796 0.870932  ]\n",
      "1\n"
     ]
    }
   ],
   "source": [
    "print(np.squeeze(tflite_results))\n",
    "print(np.argmax(np.squeeze(tflite_results)))"
   ]
  },
  {
   "cell_type": "code",
   "execution_count": null,
   "metadata": {},
   "outputs": [],
   "source": []
  }
 ],
 "metadata": {
  "accelerator": "GPU",
  "colab": {
   "collapsed_sections": [],
   "name": "keypoint_classification_EN.ipynb",
   "provenance": [],
   "toc_visible": true
  },
  "kernelspec": {
   "display_name": "image",
   "language": "python",
   "name": "image"
  },
  "language_info": {
   "codemirror_mode": {
    "name": "ipython",
    "version": 3
   },
   "file_extension": ".py",
   "mimetype": "text/x-python",
   "name": "python",
   "nbconvert_exporter": "python",
   "pygments_lexer": "ipython3",
   "version": "3.8.6"
  }
 },
 "nbformat": 4,
 "nbformat_minor": 4
}
